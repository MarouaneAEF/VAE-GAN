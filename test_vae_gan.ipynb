{
 "cells": [
  {
   "cell_type": "code",
   "execution_count": 1,
   "metadata": {},
   "outputs": [],
   "source": [
    "import torch \n",
    "from models import Generator, Discriminator, Encoder\n",
    "from dataset import get_data_loader, cifar10loader, mnistloader"
   ]
  },
  {
   "cell_type": "code",
   "execution_count": 2,
   "metadata": {},
   "outputs": [
    {
     "name": "stdout",
     "output_type": "stream",
     "text": [
      "Files already downloaded and verified\n",
      "Files already downloaded and verified\n"
     ]
    }
   ],
   "source": [
    "train_loader, _ = cifar10loader(batch_size=128)#get_data_loader()\n",
    "encoder= Encoder()\n",
    "generator = Generator()\n",
    "discriminator = Discriminator()"
   ]
  },
  {
   "cell_type": "code",
   "execution_count": null,
   "metadata": {},
   "outputs": [],
   "source": [
    "encoder?"
   ]
  },
  {
   "cell_type": "code",
   "execution_count": 3,
   "metadata": {},
   "outputs": [
    {
     "name": "stdout",
     "output_type": "stream",
     "text": [
      "torch.Size([128, 3, 64, 64])\n",
      "z shape torch.Size([128, 5184])\n",
      "mu size: torch.Size([128, 2592])\n",
      "log_var size : torch.Size([128, 2592])\n",
      "epsilon size: torch.Size([128, 2592])\n",
      "mu_z : torch.Size([128, 2592])\n",
      "logvar_z : torch.Size([128, 2592])\n",
      "z_sample : torch.Size([128, 2592])\n",
      "input size gen : torch.Size([1, 128, 2592, 1])\n",
      "output size gen : torch.Size([1, 3, 10396, 32])\n"
     ]
    },
    {
     "ename": "RuntimeError",
     "evalue": "The size of tensor a (10396) must match the size of tensor b (32) at non-singleton dimension 2",
     "output_type": "error",
     "traceback": [
      "\u001b[0;31m---------------------------------------------------------------------------\u001b[0m",
      "\u001b[0;31mRuntimeError\u001b[0m                              Traceback (most recent call last)",
      "\u001b[0;32m<ipython-input-3-dcc598eac82e>\u001b[0m in \u001b[0;36m<module>\u001b[0;34m\u001b[0m\n\u001b[1;32m      8\u001b[0m     \u001b[0mprint\u001b[0m\u001b[0;34m(\u001b[0m\u001b[0;34mf\"z_sample : {z_samples.size()}\"\u001b[0m\u001b[0;34m)\u001b[0m\u001b[0;34m\u001b[0m\u001b[0;34m\u001b[0m\u001b[0m\n\u001b[1;32m      9\u001b[0m \u001b[0;34m\u001b[0m\u001b[0m\n\u001b[0;32m---> 10\u001b[0;31m     \u001b[0mx_gen\u001b[0m \u001b[0;34m=\u001b[0m \u001b[0mgenerator\u001b[0m\u001b[0;34m(\u001b[0m\u001b[0mmu_z\u001b[0m\u001b[0;34m.\u001b[0m\u001b[0mview\u001b[0m\u001b[0;34m(\u001b[0m\u001b[0;36m1\u001b[0m\u001b[0;34m,\u001b[0m \u001b[0mmu_z\u001b[0m\u001b[0;34m.\u001b[0m\u001b[0msize\u001b[0m\u001b[0;34m(\u001b[0m\u001b[0;36m0\u001b[0m\u001b[0;34m)\u001b[0m\u001b[0;34m,\u001b[0m \u001b[0mmu_z\u001b[0m\u001b[0;34m.\u001b[0m\u001b[0msize\u001b[0m\u001b[0;34m(\u001b[0m\u001b[0;36m1\u001b[0m\u001b[0;34m)\u001b[0m\u001b[0;34m,\u001b[0m \u001b[0;36m1\u001b[0m\u001b[0;34m)\u001b[0m\u001b[0;34m)\u001b[0m\u001b[0;34m\u001b[0m\u001b[0;34m\u001b[0m\u001b[0m\n\u001b[0m\u001b[1;32m     11\u001b[0m     \u001b[0mprint\u001b[0m\u001b[0;34m(\u001b[0m\u001b[0;34mf\" x_gen size {x_gen.size()}\"\u001b[0m\u001b[0;34m)\u001b[0m\u001b[0;34m\u001b[0m\u001b[0;34m\u001b[0m\u001b[0m\n\u001b[1;32m     12\u001b[0m     \u001b[0;31m# proba_x, dis_l = discriminator(x_gen)\u001b[0m\u001b[0;34m\u001b[0m\u001b[0;34m\u001b[0m\u001b[0;34m\u001b[0m\u001b[0m\n",
      "\u001b[0;32m~/anaconda3/envs/test_sr/lib/python3.6/site-packages/torch/nn/modules/module.py\u001b[0m in \u001b[0;36m_call_impl\u001b[0;34m(self, *input, **kwargs)\u001b[0m\n\u001b[1;32m   1100\u001b[0m         if not (self._backward_hooks or self._forward_hooks or self._forward_pre_hooks or _global_backward_hooks\n\u001b[1;32m   1101\u001b[0m                 or _global_forward_hooks or _global_forward_pre_hooks):\n\u001b[0;32m-> 1102\u001b[0;31m             \u001b[0;32mreturn\u001b[0m \u001b[0mforward_call\u001b[0m\u001b[0;34m(\u001b[0m\u001b[0;34m*\u001b[0m\u001b[0minput\u001b[0m\u001b[0;34m,\u001b[0m \u001b[0;34m**\u001b[0m\u001b[0mkwargs\u001b[0m\u001b[0;34m)\u001b[0m\u001b[0;34m\u001b[0m\u001b[0;34m\u001b[0m\u001b[0m\n\u001b[0m\u001b[1;32m   1103\u001b[0m         \u001b[0;31m# Do not call functions when jit is used\u001b[0m\u001b[0;34m\u001b[0m\u001b[0;34m\u001b[0m\u001b[0;34m\u001b[0m\u001b[0m\n\u001b[1;32m   1104\u001b[0m         \u001b[0mfull_backward_hooks\u001b[0m\u001b[0;34m,\u001b[0m \u001b[0mnon_full_backward_hooks\u001b[0m \u001b[0;34m=\u001b[0m \u001b[0;34m[\u001b[0m\u001b[0;34m]\u001b[0m\u001b[0;34m,\u001b[0m \u001b[0;34m[\u001b[0m\u001b[0;34m]\u001b[0m\u001b[0;34m\u001b[0m\u001b[0;34m\u001b[0m\u001b[0m\n",
      "\u001b[0;32m~/pytorch_essai/vae-gan/model_alpha.py\u001b[0m in \u001b[0;36mforward\u001b[0;34m(self, z)\u001b[0m\n\u001b[1;32m    131\u001b[0m         \u001b[0mz\u001b[0m \u001b[0;34m=\u001b[0m \u001b[0mself\u001b[0m\u001b[0;34m.\u001b[0m\u001b[0mgenStack\u001b[0m\u001b[0;34m(\u001b[0m\u001b[0mz\u001b[0m\u001b[0;34m)\u001b[0m\u001b[0;34m\u001b[0m\u001b[0;34m\u001b[0m\u001b[0m\n\u001b[1;32m    132\u001b[0m         \u001b[0mprint\u001b[0m\u001b[0;34m(\u001b[0m\u001b[0;34mf\"output size gen : {z.size()}\"\u001b[0m\u001b[0;34m)\u001b[0m\u001b[0;34m\u001b[0m\u001b[0;34m\u001b[0m\u001b[0m\n\u001b[0;32m--> 133\u001b[0;31m         \u001b[0;32mreturn\u001b[0m \u001b[0mtorch\u001b[0m\u001b[0;34m.\u001b[0m\u001b[0msigmoid\u001b[0m\u001b[0;34m(\u001b[0m\u001b[0mz\u001b[0m \u001b[0;34m+\u001b[0m \u001b[0mself\u001b[0m\u001b[0;34m.\u001b[0m\u001b[0moutput_bias\u001b[0m\u001b[0;34m)\u001b[0m\u001b[0;34m\u001b[0m\u001b[0;34m\u001b[0m\u001b[0m\n\u001b[0m\u001b[1;32m    134\u001b[0m \u001b[0;34m\u001b[0m\u001b[0m\n\u001b[1;32m    135\u001b[0m \u001b[0;32mclass\u001b[0m \u001b[0mEncoder\u001b[0m\u001b[0;34m(\u001b[0m\u001b[0mnn\u001b[0m\u001b[0;34m.\u001b[0m\u001b[0mModule\u001b[0m\u001b[0;34m)\u001b[0m\u001b[0;34m:\u001b[0m\u001b[0;34m\u001b[0m\u001b[0;34m\u001b[0m\u001b[0m\n",
      "\u001b[0;31mRuntimeError\u001b[0m: The size of tensor a (10396) must match the size of tensor b (32) at non-singleton dimension 2"
     ]
    }
   ],
   "source": [
    "for x, _ in train_loader:\n",
    "    \n",
    "    \n",
    "    print(x.size())\n",
    "    mu_z, logvar_z, z_samples = encoder(x)\n",
    "    print(f\"mu_z : {mu_z.size()}\")\n",
    "    print(f\"logvar_z : {logvar_z.size()}\")\n",
    "    print(f\"z_sample : {z_samples.size()}\")\n",
    "\n",
    "    x_gen = generator(mu_z.view(1, mu_z.size(0), mu_z.size(1), 1))\n",
    "    print(f\" x_gen size {x_gen.size()}\")\n",
    "    # proba_x, dis_l = discriminator(x_gen)\n",
    "    # print(f\"proba_x: {proba_x.size()}\")\n",
    "    # print(f\"dis_l size: {dis_l.size()}\")\n",
    "    break"
   ]
  },
  {
   "cell_type": "code",
   "execution_count": null,
   "metadata": {},
   "outputs": [],
   "source": [
    "mu_z.unsqueeze().size()"
   ]
  },
  {
   "cell_type": "code",
   "execution_count": null,
   "metadata": {},
   "outputs": [],
   "source": [
    "mu_z.size()"
   ]
  },
  {
   "cell_type": "code",
   "execution_count": null,
   "metadata": {},
   "outputs": [],
   "source": [
    "x_true = x.float()\n",
    "print(f\"x_true size : {x_true.size()}\")\n",
    "stack = encoder.encStack(x_true)\n",
    "stack.size()\n",
    "stack = stack.view(stack.size(0), -1)\n",
    "lattent_dim = stack.size(1)//2\n",
    "\n",
    "z=stack\n",
    "mu, log_var = z[:, :lattent_dim], z[:,lattent_dim:]\n",
    "std = torch.exp(0.5* log_var)\n",
    "print(f\"size z : {z.size()}\")\n",
    "epsilon = torch.randn_like(std)\n",
    "sample = mu + epsilon*std\n",
    "# sampling latent space corresponding to real data\n",
    "# sample  = encoder.reparametrize(x_true)"
   ]
  },
  {
   "cell_type": "code",
   "execution_count": null,
   "metadata": {},
   "outputs": [],
   "source": [
    "lattent_dim"
   ]
  },
  {
   "cell_type": "code",
   "execution_count": null,
   "metadata": {},
   "outputs": [],
   "source": [
    "mu.size()"
   ]
  },
  {
   "cell_type": "code",
   "execution_count": null,
   "metadata": {},
   "outputs": [],
   "source": [
    "sample.size()"
   ]
  },
  {
   "cell_type": "code",
   "execution_count": null,
   "metadata": {},
   "outputs": [],
   "source": [
    "sample.view(x_true.size(0), lattent_dim, 1, 1).size()"
   ]
  },
  {
   "cell_type": "code",
   "execution_count": null,
   "metadata": {},
   "outputs": [],
   "source": [
    "stack = stack.view(stack.size(0), -1)\n",
    "stack.size()\n",
    "# mu, logvar, sample = encoder.reparametrize(stack)"
   ]
  },
  {
   "cell_type": "code",
   "execution_count": null,
   "metadata": {},
   "outputs": [],
   "source": [
    "x_true = x.float()\n",
    "print(f\"x_true size : {x_true.size()}\")\n",
    "# sampling latent space corresponding to real data\n",
    "mu_z, logvar_z ,z_true,  = encoder(x_true)\n",
    "# print(f\"z_true : {z_true.size()}\")\n",
    "# KL divergence of the prio\n",
    "loss_prior =  -0.5 * torch.sum(1 + logvar_z - mu_z.pow(2) - logvar_z.exp())\n",
    "#  sampling image corresponding to real latent variable \n",
    "x_gen = generator(z_true)\n",
    "print(f\"x_gen size : {x_gen.size()}\")"
   ]
  },
  {
   "cell_type": "code",
   "execution_count": 3,
   "metadata": {},
   "outputs": [
    {
     "name": "stdout",
     "output_type": "stream",
     "text": [
      "Files already downloaded and verified\n",
      "Files already downloaded and verified\n"
     ]
    }
   ],
   "source": [
    "\n",
    "import torch \n",
    "from train import Trainer\n",
    "from models import Discriminator, Encoder, Generator\n",
    "from dataset import get_data_loader, cifar10loader\n",
    "\n",
    "device = torch.device(\"cuda\")\n",
    "\n",
    "# dataloader= get_data_loader()\n",
    "trainloader, testloader  = cifar10loader(batch_size=64)\n",
    "vae_gan = Trainer(trainloader, Generator, Encoder, Discriminator)"
   ]
  },
  {
   "cell_type": "code",
   "execution_count": 4,
   "metadata": {},
   "outputs": [
    {
     "name": "stdout",
     "output_type": "stream",
     "text": [
      "Epoch:1/Iter:0, Total Loss: 8.964813, enc_loss : 8.961025, dec_loss: 0.001899, dis_loss: 0.001889, LK_D: 8.959952\n",
      "Epoch:1/Iter:50, Total Loss: 0.061066, enc_loss : 42.782119, dec_loss: 0.152311, dis_loss: 0.002422, LK_D: 0.055123\n",
      "Epoch:1/Iter:100, Total Loss: 0.040226, enc_loss : 44.586240, dec_loss: 0.268242, dis_loss: 0.002239, LK_D: 0.034714\n",
      "Epoch:1/Iter:150, Total Loss: 0.024327, enc_loss : 45.746495, dec_loss: 0.371064, dis_loss: 0.001967, LK_D: 0.019450\n",
      "Epoch:1/Iter:200, Total Loss: 0.020208, enc_loss : 46.570328, dec_loss: 0.465047, dis_loss: 0.001816, LK_D: 0.015714\n",
      "Epoch:1/Iter:250, Total Loss: 0.013854, enc_loss : 47.196710, dec_loss: 0.556144, dis_loss: 0.001801, LK_D: 0.009448\n",
      "Epoch:1/Iter:300, Total Loss: 0.013362, enc_loss : 47.712836, dec_loss: 0.646074, dis_loss: 0.001790, LK_D: 0.009036\n",
      "Epoch:1/Iter:350, Total Loss: 0.012168, enc_loss : 48.174009, dec_loss: 0.735595, dis_loss: 0.001777, LK_D: 0.007904\n",
      "Epoch:2/Iter:0, Total Loss: 8.661384, enc_loss : 8.657569, dec_loss: 0.001912, dis_loss: 0.001903, LK_D: 8.656499\n",
      "Epoch:2/Iter:50, Total Loss: 0.059287, enc_loss : 42.125929, dec_loss: 0.147541, dis_loss: 0.002687, LK_D: 0.052804\n",
      "Epoch:2/Iter:100, Total Loss: 0.026838, enc_loss : 43.790845, dec_loss: 0.263040, dis_loss: 0.002385, LK_D: 0.021048\n",
      "Epoch:2/Iter:150, Total Loss: 0.024199, enc_loss : 44.876974, dec_loss: 0.365460, dis_loss: 0.001865, LK_D: 0.019547\n",
      "Epoch:2/Iter:200, Total Loss: 0.018806, enc_loss : 45.654103, dec_loss: 0.460103, dis_loss: 0.001830, LK_D: 0.014309\n",
      "Epoch:2/Iter:250, Total Loss: 0.014411, enc_loss : 46.274481, dec_loss: 0.550993, dis_loss: 0.001785, LK_D: 0.010060\n",
      "Epoch:2/Iter:300, Total Loss: 0.012339, enc_loss : 46.841255, dec_loss: 0.641182, dis_loss: 0.001798, LK_D: 0.008006\n",
      "Epoch:2/Iter:350, Total Loss: 0.011407, enc_loss : 47.308500, dec_loss: 0.730840, dis_loss: 0.001782, LK_D: 0.007135\n",
      "Epoch:3/Iter:0, Total Loss: 8.493265, enc_loss : 8.489575, dec_loss: 0.001850, dis_loss: 0.001840, LK_D: 8.488498\n",
      "Epoch:3/Iter:50, Total Loss: 0.050933, enc_loss : 44.156647, dec_loss: 0.143362, dis_loss: 0.002303, LK_D: 0.045227\n",
      "Epoch:3/Iter:100, Total Loss: 0.025078, enc_loss : 45.512522, dec_loss: 0.262338, dis_loss: 0.002152, LK_D: 0.019767\n",
      "Epoch:3/Iter:150, Total Loss: 0.018526, enc_loss : 46.346611, dec_loss: 0.362517, dis_loss: 0.001926, LK_D: 0.013768\n",
      "Epoch:3/Iter:200, Total Loss: 0.014956, enc_loss : 46.952086, dec_loss: 0.455626, dis_loss: 0.001810, LK_D: 0.010513\n",
      "Epoch:3/Iter:250, Total Loss: 0.011827, enc_loss : 47.428776, dec_loss: 0.546112, dis_loss: 0.001783, LK_D: 0.007497\n",
      "Epoch:3/Iter:300, Total Loss: 0.009657, enc_loss : 47.810415, dec_loss: 0.635839, dis_loss: 0.001783, LK_D: 0.005374\n",
      "Epoch:3/Iter:350, Total Loss: 0.009231, enc_loss : 48.112293, dec_loss: 0.725286, dis_loss: 0.001781, LK_D: 0.004991\n",
      "Epoch:4/Iter:0, Total Loss: 8.734047, enc_loss : 8.730308, dec_loss: 0.001875, dis_loss: 0.001865, LK_D: 8.729241\n"
     ]
    }
   ],
   "source": [
    "epochs = 300\n",
    "for epoch in range(1, epochs + 1):\n",
    "\n",
    "    vae_gan.train(epoch)\n",
    "    # vae_gan.test(epoch)\n"
   ]
  },
  {
   "cell_type": "code",
   "execution_count": null,
   "metadata": {},
   "outputs": [],
   "source": [
    "print(torch.cuda.memory_summary(device=None, abbreviated=False))"
   ]
  },
  {
   "cell_type": "code",
   "execution_count": null,
   "metadata": {},
   "outputs": [],
   "source": []
  }
 ],
 "metadata": {
  "interpreter": {
   "hash": "c45391b6a74e3d0745e61f07c9d51ce1705e4b46db7f92ce009fa77337c57b0d"
  },
  "kernelspec": {
   "display_name": "Python 3.6.13 64-bit ('test_sr': conda)",
   "language": "python",
   "name": "python3"
  },
  "language_info": {
   "codemirror_mode": {
    "name": "ipython",
    "version": 3
   },
   "file_extension": ".py",
   "mimetype": "text/x-python",
   "name": "python",
   "nbconvert_exporter": "python",
   "pygments_lexer": "ipython3",
   "version": "3.6.13"
  },
  "orig_nbformat": 4
 },
 "nbformat": 4,
 "nbformat_minor": 2
}
